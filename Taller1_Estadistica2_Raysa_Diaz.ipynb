{
  "nbformat": 4,
  "nbformat_minor": 0,
  "metadata": {
    "colab": {
      "provenance": [],
      "authorship_tag": "ABX9TyOAFs+uw2rlnX2n0Dnf1z0Z",
      "include_colab_link": true
    },
    "kernelspec": {
      "name": "ir",
      "display_name": "R"
    },
    "language_info": {
      "name": "R"
    }
  },
  "cells": [
    {
      "cell_type": "markdown",
      "metadata": {
        "id": "view-in-github",
        "colab_type": "text"
      },
      "source": [
        "<a href=\"https://colab.research.google.com/github/PruebasUIS/UIS_web/blob/master/Taller1_Estadistica2_Raysa_Diaz.ipynb\" target=\"_parent\"><img src=\"https://colab.research.google.com/assets/colab-badge.svg\" alt=\"Open In Colab\"/></a>"
      ]
    },
    {
      "cell_type": "markdown",
      "source": [
        "**Desarrollo de taller 1 Estadistica 2**"
      ],
      "metadata": {
        "id": "s6MNsvJRYLZv"
      }
    },
    {
      "cell_type": "code",
      "execution_count": null,
      "metadata": {
        "id": "R9oj4SnmXeXr"
      },
      "outputs": [],
      "source": [
        "installed.packages()"
      ]
    },
    {
      "cell_type": "code",
      "source": [
        "pkgs <- installed.packages()\n",
        "class(pkgs)"
      ],
      "metadata": {
        "id": "H80EbFgpYK0G"
      },
      "execution_count": null,
      "outputs": []
    },
    {
      "cell_type": "code",
      "source": [
        "library(dplyr)\n",
        "pkgs_df <- data.frame(pkgs)\n",
        "pkgs_df %>% head"
      ],
      "metadata": {
        "id": "Zdb8MQ7OZJwX"
      },
      "execution_count": null,
      "outputs": []
    },
    {
      "cell_type": "markdown",
      "source": [
        "/content/sample_data"
      ],
      "metadata": {
        "id": "Ct84D3xUaFcY"
      }
    },
    {
      "cell_type": "markdown",
      "source": [
        "Base de datos revisada:\n",
        "https://www.stats.govt.nz/assets/Uploads/Annual-balance-sheets/Annual-balance-sheets-2017-provisional/Download-data/annual-balance-sheets-and-accumulation-accounts-200817-provisional-csv.csv"
      ],
      "metadata": {
        "id": "4CdGgvlvHuPk"
      }
    },
    {
      "cell_type": "code",
      "source": [
        "library(readr)\n",
        "tabla1 <- read_csv('/content/sample_data/annual-balance-sheets-and-accumulation-accounts-200817-provisional-csv.csv')"
      ],
      "metadata": {
        "colab": {
          "base_uri": "https://localhost:8080/"
        },
        "id": "tB9WjV6HZdZK",
        "outputId": "a38dffc6-856b-4278-aa1d-98fbc90d12e2"
      },
      "execution_count": 40,
      "outputs": [
        {
          "output_type": "stream",
          "name": "stderr",
          "text": [
            "\u001b[1mRows: \u001b[22m\u001b[34m18720\u001b[39m \u001b[1mColumns: \u001b[22m\u001b[34m8\u001b[39m\n",
            "\u001b[36m──\u001b[39m \u001b[1mColumn specification\u001b[22m \u001b[36m────────────────────────────────────────────────────────\u001b[39m\n",
            "\u001b[1mDelimiter:\u001b[22m \",\"\n",
            "\u001b[31mchr\u001b[39m (6): Institutional_sector_name, Descriptor, SNA08TRANS, Asset_liability_...\n",
            "\u001b[32mdbl\u001b[39m (2): Year, Institutional_sector_code\n",
            "\n",
            "\u001b[36mℹ\u001b[39m Use `spec()` to retrieve the full column specification for this data.\n",
            "\u001b[36mℹ\u001b[39m Specify the column types or set `show_col_types = FALSE` to quiet this message.\n"
          ]
        }
      ]
    },
    {
      "cell_type": "markdown",
      "source": [
        "Esta base de datos es sobre balances anuales y de cuentas de acumulación que muestran datos desagregados por las siguientes características:\n",
        "Año\n",
        "Nombre del sector institucional\n",
        "Código del sector\n",
        "Descriptor de la cuenta (Tipos de cuentas)\n",
        "Código SNA08TRANS\n",
        "Codigo pasivo activo\n",
        "Estado\n",
        "Valor de la cuenta\n"
      ],
      "metadata": {
        "id": "UjwNoLNhH8wp"
      }
    },
    {
      "cell_type": "code",
      "source": [
        "tabla1 %>% glimpse()"
      ],
      "metadata": {
        "colab": {
          "base_uri": "https://localhost:8080/"
        },
        "id": "_gaNGpymdMUo",
        "outputId": "84b07871-9583-4d93-ea9b-63dedafa3621"
      },
      "execution_count": 41,
      "outputs": [
        {
          "output_type": "stream",
          "name": "stdout",
          "text": [
            "Rows: 18,720\n",
            "Columns: 8\n",
            "$ Year                      \u001b[3m\u001b[90m<dbl>\u001b[39m\u001b[23m 2008.03, 2009.03, 2010.03, 2011.03, 2012.03,…\n",
            "$ Institutional_sector_name \u001b[3m\u001b[90m<chr>\u001b[39m\u001b[23m \"Corporate business enterprises\", \"Corporate…\n",
            "$ Institutional_sector_code \u001b[3m\u001b[90m<dbl>\u001b[39m\u001b[23m 141, 141, 141, 141, 141, 141, 141, 141, 141,…\n",
            "$ Descriptor                \u001b[3m\u001b[90m<chr>\u001b[39m\u001b[23m \"Capital Account Opening balances Produced n…\n",
            "$ SNA08TRANS                \u001b[3m\u001b[90m<chr>\u001b[39m\u001b[23m \"LS00000\", \"LS00000\", \"LS00000\", \"LS00000\", …\n",
            "$ Asset_liability_code      \u001b[3m\u001b[90m<chr>\u001b[39m\u001b[23m \"AN10000\", \"AN10000\", \"AN10000\", \"AN10000\", …\n",
            "$ Status                    \u001b[3m\u001b[90m<chr>\u001b[39m\u001b[23m \"REVISED\", \"REVISED\", \"REVISED\", \"REVISED\", …\n",
            "$ Values                    \u001b[3m\u001b[90m<chr>\u001b[39m\u001b[23m \"225544\", \"243315\", \"259381\", \"262596\", \"267…\n"
          ]
        }
      ]
    },
    {
      "cell_type": "markdown",
      "source": [
        "Sobre este banco de datos se puede observar que tiene un total de 18.720 registros, de los cuales se puede resaltar que:\n"
      ],
      "metadata": {
        "id": "OPQgjDXRIOdH"
      }
    },
    {
      "cell_type": "markdown",
      "source": [
        "En la característica de Código del sector se ven grupos 1040 por cada tipo de código, sin embargo al realizar un histograma no se puede observar la uniformidad por la cercanía de algunos.\n"
      ],
      "metadata": {
        "id": "hvHTkvU8Jhit"
      }
    },
    {
      "cell_type": "code",
      "source": [
        "table(tabla1$Institutional_sector_code)"
      ],
      "metadata": {
        "colab": {
          "base_uri": "https://localhost:8080/",
          "height": 104
        },
        "id": "a45OGX1CD0LN",
        "outputId": "d1e30972-ee50-4492-bda7-99f7b5c6f8f7"
      },
      "execution_count": 88,
      "outputs": [
        {
          "output_type": "display_data",
          "data": {
            "text/plain": [
              "\n",
              "   8   27  121  141  211  221  222  231  241  251  261  281  311  312  321  411 \n",
              "1040 1040 1040 1040 1040 1040 1040 1040 1040 1040 1040 1040 1040 1040 1040 1040 \n",
              " 511  611 \n",
              "1040 1040 "
            ]
          },
          "metadata": {}
        }
      ]
    },
    {
      "cell_type": "markdown",
      "source": [
        "Sin embargo, sí se evidencia que la mayor parte de codigos estan en el intervalo de 200-350"
      ],
      "metadata": {
        "id": "mwqX0RFGJqKq"
      }
    },
    {
      "cell_type": "code",
      "source": [
        "hist(tabla1$Institutional_sector_code)"
      ],
      "metadata": {
        "colab": {
          "base_uri": "https://localhost:8080/",
          "height": 437
        },
        "id": "OCmyrh8oGxZ1",
        "outputId": "33407d29-0c64-498d-9f8d-8dc23a6c8cd9"
      },
      "execution_count": 95,
      "outputs": [
        {
          "output_type": "display_data",
          "data": {
            "text/plain": [
              "Plot with title “Histogram of tabla1$Institutional_sector_code”"
            ],
            "image/png": "[encoded data removed]"
          },
          "metadata": {
            "image/png": {
              "width": 420,
              "height": 420
            }
          }
        }
      ]
    },
    {
      "cell_type": "markdown",
      "source": [
        "Lo mismo sucede con el nombre del sector de la cuenta:"
      ],
      "metadata": {
        "id": "TRJSVC_-KCEz"
      }
    },
    {
      "cell_type": "code",
      "source": [
        "table(tabla1$Institutional_sector_name)"
      ],
      "metadata": {
        "colab": {
          "base_uri": "https://localhost:8080/",
          "height": 659
        },
        "id": "LLKwEsSWE-xh",
        "outputId": "112dfb5e-1f65-4ea0-cb73-936cbc6b7ee6"
      },
      "execution_count": 89,
      "outputs": [
        {
          "output_type": "display_data",
          "data": {
            "text/plain": [
              "\n",
              "                                           Captive financial institutions \n",
              "                                                                     1040 \n",
              "                                                             Central bank \n",
              "                                                                     1040 \n",
              "Central government institutions excluding funded social insurance schemes \n",
              "                                                                     1040 \n",
              "          Central government institutions funded social insurance schemes \n",
              "                                                                     1040 \n",
              "                                           Corporate business enterprises \n",
              "                                                                     1040 \n",
              "                                                    Financial auxiliaries \n",
              "                                                                     1040 \n",
              "                                                               Households \n",
              "                                                                     1040 \n",
              "                                                   Insurance corporations \n",
              "                                                                     1040 \n",
              "                                                         Investment funds \n",
              "                                                                     1040 \n",
              "                                            Local government institutions \n",
              "                                                                     1040 \n",
              "                                       Non-corporate business enterprises \n",
              "                                                                     1040 \n",
              "                               Non-profit institutions serving households \n",
              "                                                                     1040 \n",
              "                                            Other depository institutions \n",
              "                                                                     1040 \n",
              "     Other financial intermediaries excluding insurance and pension funds \n",
              "                                                                     1040 \n",
              "                                                            Pension funds \n",
              "                                                                     1040 \n",
              "                                                         Registered banks \n",
              "                                                                     1040 \n",
              "                                                        Rest of the world \n",
              "                                                                     1040 \n",
              "                                   Total economy (excl rest of the world) \n",
              "                                                                     1040 "
            ]
          },
          "metadata": {}
        }
      ]
    },
    {
      "cell_type": "markdown",
      "source": [
        "Para poder encontrar una conclusión sobre las caracteristicas a continuación relacionadas debemos conocer a que se refieren los codigos de las caracteristicas, o a que hacen referencia, pues mas alla de agrupar y sumarlos no se puede dar otra observación sobre el comportamiento de los datos."
      ],
      "metadata": {
        "id": "dTralb6qKTfc"
      }
    },
    {
      "cell_type": "markdown",
      "source": [
        "SNA08TRANS"
      ],
      "metadata": {
        "id": "RIuvrOoiKhNl"
      }
    },
    {
      "cell_type": "markdown",
      "source": [
        "Codigo pasivo activo"
      ],
      "metadata": {
        "id": "yXngtBv4Ksjb"
      }
    },
    {
      "cell_type": "code",
      "source": [
        "table(tabla1$SNA08TRANS)"
      ],
      "metadata": {
        "colab": {
          "base_uri": "https://localhost:8080/",
          "height": 139
        },
        "id": "_Usb_1svFLYC",
        "outputId": "fb9d0de5-8d37-456f-83b8-e76164ad2171"
      },
      "execution_count": 90,
      "outputs": [
        {
          "output_type": "display_data",
          "data": {
            "text/plain": [
              "\n",
              "B08N000 B090000 B09C000 B09F000 B102000 B103000 D910000 D990000 F000000 K030000 \n",
              "    180     180     180     180     180     180     180     180    3240     180 \n",
              "K050000 K060000 K061000 K062000 K070000 LE00000 LS00000 NP00000 NP01000 NP02000 \n",
              "    720     180     180     180    3780    3780    3780     180     180     180 \n",
              "P051000 P051C00 P051G00 P052000 \n",
              "    180     180     180     180 "
            ]
          },
          "metadata": {}
        }
      ]
    },
    {
      "cell_type": "code",
      "source": [
        "table(tabla1$Asset_liability_code)"
      ],
      "metadata": {
        "colab": {
          "base_uri": "https://localhost:8080/",
          "height": 173
        },
        "id": "CRLr5pW1FQCS",
        "outputId": "ccb1e59c-4965-4834-c94e-9b03d80f3959"
      },
      "execution_count": 91,
      "outputs": [
        {
          "output_type": "display_data",
          "data": {
            "text/plain": [
              "\n",
              "A000000 AF00000 AFA0000 AFA0100 AFA0200 AFA0300 AFA0400 AFA0500 AFA0600 AFA0700 \n",
              "    720     720     900     720     720     720     720     720     720     720 \n",
              "AFA0800 AFL0000 AFL0100 AFL0200 AFL0300 AFL0301 AFL0302 AFL0303 AFL0304 AFL0305 \n",
              "    720     900     720     720     711       1       1       1       1       1 \n",
              "AFL0306 AFL0307 AFL0308 AFL0309 AFL0400 AFL0500 AFL0600 AFL0700 AFL0800 AN00000 \n",
              "      1       1       1       1     720     720     720     720     720     900 \n",
              "AN10000 AN20000     ISA \n",
              "   1260    1080     720 "
            ]
          },
          "metadata": {}
        }
      ]
    },
    {
      "cell_type": "markdown",
      "source": [
        "Las cuentas sobre los balances anuales y de cuentas de acumulación fueron clasificadas como revisadas y cuentas finales, es decir que puede haber cuentas que aun pueden cambiar."
      ],
      "metadata": {
        "id": "eTN16iBGK9aQ"
      }
    },
    {
      "cell_type": "code",
      "source": [
        "table(tabla1$Status)"
      ],
      "metadata": {
        "colab": {
          "base_uri": "https://localhost:8080/",
          "height": 69
        },
        "id": "CXFQ7jfbFWUa",
        "outputId": "4c63781c-e055-4482-9a9a-b3cd5cc610ac"
      },
      "execution_count": 93,
      "outputs": [
        {
          "output_type": "display_data",
          "data": {
            "text/plain": [
              "\n",
              "  FINAL REVISED \n",
              "  13865    4855 "
            ]
          },
          "metadata": {}
        }
      ]
    },
    {
      "cell_type": "code",
      "source": [
        "barplot(prop.table(table(tabla1$Status)),col=c(\"orange\",\"blue\"), legend.text=c(\"Valor Final\",\"Revisado\"),ylim=c(0,0.8), main=\"Estados\", ylab =\"Frecuencias Relativas\")\n"
      ],
      "metadata": {
        "colab": {
          "base_uri": "https://localhost:8080/",
          "height": 437
        },
        "id": "fG4y4mopu3Dr",
        "outputId": "5cacc650-29d8-44b1-9994-622d48fbcab5"
      },
      "execution_count": 62,
      "outputs": [
        {
          "output_type": "display_data",
          "data": {
            "text/plain": [
              "Plot with title “Estados”"
            ],
            "image/png": "[encoded data removed]"
          },
          "metadata": {
            "image/png": {
              "width": 420,
              "height": 420
            }
          }
        }
      ]
    },
    {
      "cell_type": "code",
      "source": [
        "tabla1 %>% summary()"
      ],
      "metadata": {
        "colab": {
          "base_uri": "https://localhost:8080/",
          "height": 382
        },
        "id": "0A4inmlgdd3K",
        "outputId": "480d621b-b92f-48d9-c328-d599de320c2b"
      },
      "execution_count": 42,
      "outputs": [
        {
          "output_type": "display_data",
          "data": {
            "text/plain": [
              "      Year      Institutional_sector_name Institutional_sector_code\n",
              " Min.   :2008   Length:18720              Min.   :  8.0            \n",
              " 1st Qu.:2010   Class :character          1st Qu.:211.0            \n",
              " Median :2013   Mode  :character          Median :246.0            \n",
              " Mean   :2013                             Mean   :260.7            \n",
              " 3rd Qu.:2015                             3rd Qu.:312.0            \n",
              " Max.   :2017                             Max.   :611.0            \n",
              "  Descriptor         SNA08TRANS        Asset_liability_code    Status         \n",
              " Length:18720       Length:18720       Length:18720         Length:18720      \n",
              " Class :character   Class :character   Class :character     Class :character  \n",
              " Mode  :character   Mode  :character   Mode  :character     Mode  :character  \n",
              "                                                                              \n",
              "                                                                              \n",
              "                                                                              \n",
              "    Values         \n",
              " Length:18720      \n",
              " Class :character  \n",
              " Mode  :character  \n",
              "                   \n",
              "                   \n",
              "                   "
            ]
          },
          "metadata": {}
        }
      ]
    },
    {
      "cell_type": "markdown",
      "source": [
        "Revisando la ultima variable de los valores de las cuentas encontramos que el maximo valor numerico es 2.852.427 y el menor es de -46.318, además que al hacer el summary toma la caracteristica como un Caracter porque hay del total de 18.720 796 registros que se asignaron con S y C, sin embargo, no se explica que quiere decir esta asignación o clasificación. "
      ],
      "metadata": {
        "id": "WAQCP2SULgHY"
      }
    },
    {
      "cell_type": "markdown",
      "source": [
        "Si el dato de los valores totales (revisadas y finales) de las cuentas sin contar con los 796 registros que se asignaron con S y C se podria tener que el promedio sería de 27.868.27 por cuenta, considerando tanto los valores negativos como los positivos."
      ],
      "metadata": {
        "id": "vC97xBaRMsbQ"
      }
    },
    {
      "cell_type": "markdown",
      "source": [
        "Para este tipo de analisis sería importante tener a la mano una pequeña descripción de que datos tiene la muestra, ya que al no contar con al menos una relación de lo que hay en cada columna no se pueden generar muchas conclusiones al respecto, por lo menos así elegiriamos mejor el banco de datos y realizar un mejor analsis."
      ],
      "metadata": {
        "id": "txgW72wUNfSE"
      }
    }
  ]
}